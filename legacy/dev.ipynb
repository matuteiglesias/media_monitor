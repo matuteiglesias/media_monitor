{
 "cells": [
  {
   "cell_type": "markdown",
   "metadata": {},
   "source": []
  },
  {
   "cell_type": "code",
   "execution_count": 2,
   "metadata": {},
   "outputs": [],
   "source": [
    "# 🧰 Dependencias\n",
    "import feedparser\n",
    "import csv\n",
    "from datetime import datetime\n",
    "\n",
    "# 🧵 Definí tus feeds temáticos (no hace falta search_terms sueltos si ya tenés tus URLs definidas)\n",
    "rss_feeds = {\n",
    "    \"Inflación y Precios\": \"https://news.google.com/rss/search?q=(%22inflación%22+OR+%22IPC%22+OR+%22canasta+básica%22+OR+INDEC+OR+consultoras)+Argentina&hl=es-419&gl=AR&ceid=AR:es-419\",\n",
    "    \"Tipo de Cambio y Reservas\": \"https://news.google.com/rss/search?q=dólar+OR+blue+OR+oficial+OR+reservas+OR+BCRA+OR+intervención+OR+futuros+OR+planchado&hl=es-419&gl=AR&ceid=AR:es-419\",\n",
    "    \"Deuda y Financiamiento\": \"https://news.google.com/rss/search?q=bono+OR+licitación+OR+vencimientos+OR+Bonte+OR+tasa+OR+rollover&hl=es-419&gl=AR&ceid=AR:es-419\",\n",
    "    \"Actividad y Empleo\": \"https://news.google.com/rss/search?q=subsidios+OR+paritarias+OR+gremios+OR+conciliación+OR+emple+OR+trabaj+OR+informal+OR+desemple+OR+EPH+OR+salarios&hl=es-419&gl=AR&ceid=AR:es-419\",\n",
    "    \"Sector Externo\": \"https://news.google.com/rss/search?q=(comerc+exterior+OR+balanz+argentin+OR+export+OR+import+OR+arancel)+site:infobae.com+OR+site:lanacion.com.ar+OR+site:clarin.com+OR+site:ambito.com.ar+OR+site:telam.com.ar+OR+site:iprofesional.com&hl=es-419&gl=AR&ceid=AR:es-419\",\n",
    "    \"Finanzas\": \"https://news.google.com/rss/search?q=(gasto+public+OR+ajuste+fiscal+OR+deficit+OR+superavit+OR+BCRA+OR+presupuesto+OR+bono+OR+banco+OR+riesgo+pais+OR+tasa+interes+OR+financier)&site:ambito.com.ar+OR+site:infobae.com+OR+site:lanacion.com.ar+OR+site:cronista.com+OR+site:baenegocios.com+OR+site:bna.com.ar&hl=es-419&gl=AR&ceid=AR:es-419\",\n",
    "    \"Personajes Políticos y Económicos\": \"https://news.google.com/rss/search?q=(Milei+OR+Caputo+OR+Bausili+OR+Rubinstein+OR+Prat-Gay+OR+Cavallo+OR+Cristina+OR+Massa+OR+Melconian+OR+Macri+OR+Kicillof)+site:.ar&hl=es-419&gl=AR&ceid=AR:es-419\",\n",
    "\n",
    "}"
   ]
  },
  {
   "cell_type": "code",
   "execution_count": 3,
   "metadata": {},
   "outputs": [],
   "source": [
    "# 🧼 Limpieza básica de título\n",
    "def clean_title(title):\n",
    "    return title.rsplit(\" - \", 1)[0].strip()\n"
   ]
  },
  {
   "cell_type": "code",
   "execution_count": 4,
   "metadata": {},
   "outputs": [
    {
     "name": "stdout",
     "output_type": "stream",
     "text": [
      "📰 Parsing: Inflación y Precios\n",
      "📰 Parsing: Tipo de Cambio y Reservas\n",
      "📰 Parsing: Deuda y Financiamiento\n",
      "📰 Parsing: Actividad y Empleo\n",
      "📰 Parsing: Sector Externo\n",
      "📰 Parsing: Finanzas\n",
      "📰 Parsing: Personajes Políticos y Económicos\n"
     ]
    }
   ],
   "source": [
    "for topic, url in rss_feeds.items():\n",
    "    print(f\"📰 Parsing: {topic}\")\n",
    "    feed = feedparser.parse(url)\n",
    "    entries = feed.entries[:2]"
   ]
  },
  {
   "cell_type": "code",
   "execution_count": 7,
   "metadata": {},
   "outputs": [
    {
     "data": {
      "text/plain": [
       "{'title': 'Kicillof denunció que \"AmCham pidió la condena\" contra Cristina y advirtió: \"No les tenemos miedo\" - La Nación',\n",
       " 'title_detail': {'type': 'text/plain',\n",
       "  'language': None,\n",
       "  'base': 'https://news.google.com/rss/search?q=(Milei+OR+Caputo+OR+Bausili+OR+Rubinstein+OR+Prat-Gay+OR+Cavallo+OR+Cristina+OR+Massa+OR+Melconian+OR+Macri+OR+Kicillof)+site:.ar&hl=es-419&gl=AR&ceid=AR:es-419',\n",
       "  'value': 'Kicillof denunció que \"AmCham pidió la condena\" contra Cristina y advirtió: \"No les tenemos miedo\" - La Nación'},\n",
       " 'links': [{'rel': 'alternate',\n",
       "   'type': 'text/html',\n",
       "   'href': 'https://news.google.com/rss/articles/CBMi2wFBVV95cUxNNDdDaUtWZENuMm13WDFnVjVycE8xbGctYU9KWDU0VldtNTBJT2lUODdpQUEzNG9YSzN5anlrSmJfYm1RclNob1pNX1B6dm5IMzhRTmxQWUdOd2hYVkxmd2o2c2dzQ3J3QmlXc1ljdXdJVHBkM3dVSEJyS2xJLXFEdS1rUTdMZ01uejVZMkFfdmo4M1phUko5b0gzemc5akRQV1B5c1d5Nm1CS3lZTDlDYzZIZHE1NzdWN1pDa3hsU3NvM2NYeUZ6U2JQN3pTSXRFTnVUV1J0d0FNOVk?oc=5'}],\n",
       " 'link': 'https://news.google.com/rss/articles/CBMi2wFBVV95cUxNNDdDaUtWZENuMm13WDFnVjVycE8xbGctYU9KWDU0VldtNTBJT2lUODdpQUEzNG9YSzN5anlrSmJfYm1RclNob1pNX1B6dm5IMzhRTmxQWUdOd2hYVkxmd2o2c2dzQ3J3QmlXc1ljdXdJVHBkM3dVSEJyS2xJLXFEdS1rUTdMZ01uejVZMkFfdmo4M1phUko5b0gzemc5akRQV1B5c1d5Nm1CS3lZTDlDYzZIZHE1NzdWN1pDa3hsU3NvM2NYeUZ6U2JQN3pTSXRFTnVUV1J0d0FNOVk?oc=5',\n",
       " 'id': 'CBMi2wFBVV95cUxNNDdDaUtWZENuMm13WDFnVjVycE8xbGctYU9KWDU0VldtNTBJT2lUODdpQUEzNG9YSzN5anlrSmJfYm1RclNob1pNX1B6dm5IMzhRTmxQWUdOd2hYVkxmd2o2c2dzQ3J3QmlXc1ljdXdJVHBkM3dVSEJyS2xJLXFEdS1rUTdMZ01uejVZMkFfdmo4M1phUko5b0gzemc5akRQV1B5c1d5Nm1CS3lZTDlDYzZIZHE1NzdWN1pDa3hsU3NvM2NYeUZ6U2JQN3pTSXRFTnVUV1J0d0FNOVk',\n",
       " 'guidislink': False,\n",
       " 'published': 'Wed, 11 Jun 2025 14:00:00 GMT',\n",
       " 'published_parsed': time.struct_time(tm_year=2025, tm_mon=6, tm_mday=11, tm_hour=14, tm_min=0, tm_sec=0, tm_wday=2, tm_yday=162, tm_isdst=0),\n",
       " 'summary': '<a href=\"https://news.google.com/rss/articles/CBMi2wFBVV95cUxNNDdDaUtWZENuMm13WDFnVjVycE8xbGctYU9KWDU0VldtNTBJT2lUODdpQUEzNG9YSzN5anlrSmJfYm1RclNob1pNX1B6dm5IMzhRTmxQWUdOd2hYVkxmd2o2c2dzQ3J3QmlXc1ljdXdJVHBkM3dVSEJyS2xJLXFEdS1rUTdMZ01uejVZMkFfdmo4M1phUko5b0gzemc5akRQV1B5c1d5Nm1CS3lZTDlDYzZIZHE1NzdWN1pDa3hsU3NvM2NYeUZ6U2JQN3pTSXRFTnVUV1J0d0FNOVk?oc=5\" target=\"_blank\">Kicillof denunció que \"AmCham pidió la condena\" contra Cristina y advirtió: \"No les tenemos miedo\"</a>&nbsp;&nbsp;<font color=\"#6f6f6f\">La Nación</font>',\n",
       " 'summary_detail': {'type': 'text/html',\n",
       "  'language': None,\n",
       "  'base': 'https://news.google.com/rss/search?q=(Milei+OR+Caputo+OR+Bausili+OR+Rubinstein+OR+Prat-Gay+OR+Cavallo+OR+Cristina+OR+Massa+OR+Melconian+OR+Macri+OR+Kicillof)+site:.ar&hl=es-419&gl=AR&ceid=AR:es-419',\n",
       "  'value': '<a href=\"https://news.google.com/rss/articles/CBMi2wFBVV95cUxNNDdDaUtWZENuMm13WDFnVjVycE8xbGctYU9KWDU0VldtNTBJT2lUODdpQUEzNG9YSzN5anlrSmJfYm1RclNob1pNX1B6dm5IMzhRTmxQWUdOd2hYVkxmd2o2c2dzQ3J3QmlXc1ljdXdJVHBkM3dVSEJyS2xJLXFEdS1rUTdMZ01uejVZMkFfdmo4M1phUko5b0gzemc5akRQV1B5c1d5Nm1CS3lZTDlDYzZIZHE1NzdWN1pDa3hsU3NvM2NYeUZ6U2JQN3pTSXRFTnVUV1J0d0FNOVk?oc=5\" target=\"_blank\">Kicillof denunció que \"AmCham pidió la condena\" contra Cristina y advirtió: \"No les tenemos miedo\"</a>&nbsp;&nbsp;<font color=\"#6f6f6f\">La Nación</font>'},\n",
       " 'source': {'href': 'https://www.lanacion.com.ar', 'title': 'La Nación'}}"
      ]
     },
     "execution_count": 7,
     "metadata": {},
     "output_type": "execute_result"
    }
   ],
   "source": [
    "feed.entries[0]"
   ]
  },
  {
   "cell_type": "code",
   "execution_count": 5,
   "metadata": {},
   "outputs": [
    {
     "ename": "NameError",
     "evalue": "name 'xx' is not defined",
     "output_type": "error",
     "traceback": [
      "\u001b[0;31m---------------------------------------------------------------------------\u001b[0m",
      "\u001b[0;31mNameError\u001b[0m                                 Traceback (most recent call last)",
      "Cell \u001b[0;32mIn[5], line 1\u001b[0m\n\u001b[0;32m----> 1\u001b[0m \u001b[43mxx\u001b[49m\n",
      "\u001b[0;31mNameError\u001b[0m: name 'xx' is not defined"
     ]
    }
   ],
   "source": [
    "xx"
   ]
  },
  {
   "cell_type": "code",
   "execution_count": 107,
   "metadata": {},
   "outputs": [],
   "source": [
    "# 📥 Función principal para fetch + parse + guardar\n",
    "def fetch_and_save_news(rss_dict, output_csv=\"rss_news_dump.csv\", max_articles=30):\n",
    "    rows = []\n",
    "    \n",
    "    for topic, url in rss_dict.items():\n",
    "        print(f\"📰 Parsing: {topic}\")\n",
    "        feed = feedparser.parse(url)\n",
    "        entries = feed.entries[:max_articles]\n",
    "\n",
    "        for entry in entries:\n",
    "            title = clean_title(entry.title)\n",
    "            link = entry.link\n",
    "            published = entry.get(\"published\", \"\")\n",
    "            source = entry.source.title if hasattr(entry, \"source\") else \"N/A\"\n",
    "            source_url = entry.source.href if hasattr(entry, \"source\") else \"N/A\"\n",
    "\n",
    "            # rows.append([topic, title, link, published, source, source_url])\n",
    "            rows.append([topic, title, published, source])\n",
    "    \n",
    "    # 💾 Escribir a CSV\n",
    "    with open(output_csv, mode=\"w\", newline=\"\", encoding=\"utf-8-sig\") as f:\n",
    "        writer = csv.writer(f)\n",
    "        # writer.writerow([\"Topic\", \"Title\", \"Link\", \"Published\", \"Source\", \"Source URL\"])\n",
    "        writer.writerow([\"Topic\", \"Title\", \"Published\", \"Source\"])\n",
    "        writer.writerows(rows)\n",
    "    \n",
    "    print(f\"\\n✅ Guardado: {output_csv} con {len(rows)} artículos.\")\n"
   ]
  },
  {
   "cell_type": "code",
   "execution_count": null,
   "metadata": {},
   "outputs": [],
   "source": []
  },
  {
   "cell_type": "code",
   "execution_count": 108,
   "metadata": {},
   "outputs": [
    {
     "name": "stdout",
     "output_type": "stream",
     "text": [
      "              label                       start                         end\n",
      "0         4h_window  2025-05-28T14:29:26.722704  2025-05-28T20:29:26.722704\n",
      "1       2day_window  2025-05-26T10:29:26.722704  2025-05-28T10:29:26.722704\n",
      "2     weekly_window  2025-05-14T22:29:26.722704  2025-05-21T22:29:26.722704\n",
      "3  fortnight_window  2025-04-13T22:29:26.722704  2025-05-13T22:29:26.722704\n"
     ]
    }
   ],
   "source": [
    "from datetime import datetime, timedelta\n",
    "import pandas as pd\n",
    "\n",
    "# Simulation: Current time (use UTC as in your RSS timestamps)\n",
    "now = datetime.utcnow()\n",
    "\n",
    "# Define the function that returns the slice windows given a datetime\n",
    "def compute_slices(trigger_time: datetime):\n",
    "    slices = []\n",
    "\n",
    "    def add_slice(label, start_delta, end_delta):\n",
    "        start = trigger_time - timedelta(hours=end_delta)\n",
    "        end = trigger_time - timedelta(hours=start_delta)\n",
    "        slices.append({\n",
    "            \"label\": label,\n",
    "            \"start\": start.isoformat(),\n",
    "            \"end\": end.isoformat()\n",
    "        })\n",
    "\n",
    "    hour = trigger_time.hour\n",
    "    day = trigger_time.day\n",
    "\n",
    "    hour = 12\n",
    "\n",
    "    if hour % 4 == 0:\n",
    "        add_slice(\"4h_window\", 2, 8)\n",
    "\n",
    "    if hour % 8 == 0:\n",
    "        add_slice(\"8h_window\", 4, 16)\n",
    "\n",
    "    if hour == 12:\n",
    "        add_slice(\"2day_window\", 12, 60)\n",
    "\n",
    "    if hour == 12 and day % 3 == 0:\n",
    "        add_slice(\"3day_window\", 72, 168)  # days -3 to -7\n",
    "\n",
    "    if hour == 12 and day % 7 == 0:\n",
    "        add_slice(\"weekly_window\", 168, 336)  # previous week\n",
    "\n",
    "    if hour == 12 and day % 14 == 0:\n",
    "        add_slice(\"fortnight_window\", 360, 1080)  # days -15 to -45\n",
    "\n",
    "    return pd.DataFrame(slices)\n",
    "\n",
    "# Run the computation\n",
    "slice_df = compute_slices(now)\n",
    "\n",
    "print(slice_df)"
   ]
  },
  {
   "cell_type": "code",
   "execution_count": 114,
   "metadata": {},
   "outputs": [
    {
     "name": "stderr",
     "output_type": "stream",
     "text": [
      "/tmp/ipykernel_2289978/3980817640.py:8: UserWarning: Could not infer format, so each element will be parsed individually, falling back to `dateutil`. To ensure parsing is consistent and as-expected, please specify a format.\n",
      "  df[\"Published\"] = pd.to_datetime(df[\"Published\"], errors=\"coerce\")\n"
     ]
    },
    {
     "data": {
      "text/plain": [
       "Index(['Topic', 'Title', 'Published', 'Source'], dtype='object')"
      ]
     },
     "execution_count": 114,
     "metadata": {},
     "output_type": "execute_result"
    }
   ],
   "source": [
    "import pandas as pd\n",
    "\n",
    "def load_rss_dataset(csv_path=\"noticias_google_news.csv\"):\n",
    "    # Leer CSV\n",
    "    df = pd.read_csv(csv_path)\n",
    "\n",
    "    # Convertir la columna de fecha a datetime\n",
    "    df[\"Published\"] = pd.to_datetime(df[\"Published\"], errors=\"coerce\")\n",
    "\n",
    "    # Eliminar entradas con fechas inválidas\n",
    "    df = df.dropna(subset=[\"Published\"])\n",
    "\n",
    "    # # Setear como índice temporal\n",
    "    # df = df.set_index(\"Published\").sort_index()\n",
    "\n",
    "    return df\n",
    "\n",
    "df_news = load_rss_dataset(csv_path= rss_dumps)\n",
    "df_news.columns"
   ]
  },
  {
   "cell_type": "code",
   "execution_count": 110,
   "metadata": {},
   "outputs": [],
   "source": [
    "import os\n",
    "rss_dumps = \"./data/rss_slices/rss_dumps.csv\"\n",
    "output_dir = \"./data/rss_slices\"\n",
    "os.makedirs(output_dir, exist_ok=True)"
   ]
  },
  {
   "cell_type": "code",
   "execution_count": 116,
   "metadata": {},
   "outputs": [
    {
     "name": "stdout",
     "output_type": "stream",
     "text": [
      "📰 Parsing: Inflación y Precios\n",
      "📰 Parsing: Tipo de Cambio y Reservas\n",
      "📰 Parsing: Deuda y Financiamiento\n",
      "📰 Parsing: Actividad y Empleo\n",
      "📰 Parsing: Sector Externo\n",
      "📰 Parsing: Finanzas\n",
      "📰 Parsing: Personajes Políticos y Económicos\n",
      "\n",
      "✅ Guardado: ./data/rss_slices/rss_dumps.csv con 656 artículos.\n"
     ]
    },
    {
     "name": "stderr",
     "output_type": "stream",
     "text": [
      "/tmp/ipykernel_2289978/3980817640.py:8: UserWarning: Could not infer format, so each element will be parsed individually, falling back to `dateutil`. To ensure parsing is consistent and as-expected, please specify a format.\n",
      "  df[\"Published\"] = pd.to_datetime(df[\"Published\"], errors=\"coerce\")\n"
     ]
    }
   ],
   "source": [
    "\n",
    "\n",
    "# Simulate trigger time for file naming\n",
    "trigger_time = datetime(2025, 5, 28, 12, 0)\n",
    "\n",
    "slice_df = compute_slices(trigger_time)\n",
    "\n",
    "# ▶️ Ejecutar la función\n",
    "fetch_and_save_news(rss_feeds, output_csv=rss_dumps, max_articles=100)\n",
    "\n",
    "df_news = load_rss_dataset(csv_path= rss_dumps)\n",
    "\n",
    "\n",
    "# Apply slicing and save\n",
    "saved_files = []\n",
    "for _, row in slice_df.iterrows():\n",
    "    label = row[\"label\"]\n",
    "    start = pd.to_datetime(row[\"start\"]).tz_convert(\"UTC\") if pd.to_datetime(row[\"start\"]).tzinfo else pd.to_datetime(row[\"start\"]).tz_localize(\"UTC\")\n",
    "    end = pd.to_datetime(row[\"end\"]).tz_convert(\"UTC\") if pd.to_datetime(row[\"end\"]).tzinfo else pd.to_datetime(row[\"end\"]).tz_localize(\"UTC\")\n",
    "\n",
    "\n",
    "    sliced_df = df_news[(df_news[\"Published\"] >= start) & (df_news[\"Published\"] <= end)]\n",
    "    if not sliced_df.empty:\n",
    "        filename = f\"{label}_{trigger_time.strftime('%Y%m%dT%H%M')}.csv\"\n",
    "        filepath = os.path.join(output_dir, filename)\n",
    "        sliced_df.to_csv(filepath, index=False)\n",
    "        saved_files.append(filepath)"
   ]
  }
 ],
 "metadata": {
  "kernelspec": {
   "display_name": "new_env",
   "language": "python",
   "name": "python3"
  },
  "language_info": {
   "codemirror_mode": {
    "name": "ipython",
    "version": 3
   },
   "file_extension": ".py",
   "mimetype": "text/x-python",
   "name": "python",
   "nbconvert_exporter": "python",
   "pygments_lexer": "ipython3",
   "version": "3.11.11"
  }
 },
 "nbformat": 4,
 "nbformat_minor": 2
}
