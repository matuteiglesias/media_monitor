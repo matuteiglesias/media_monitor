{
 "cells": [
  {
   "cell_type": "code",
   "execution_count": null,
   "metadata": {},
   "outputs": [],
   "source": []
  },
  {
   "cell_type": "code",
   "execution_count": null,
   "metadata": {},
   "outputs": [],
   "source": [
    "import os\n",
    "import glob\n",
    "import pandas as pd\n",
    "import hashlib\n",
    "\n",
    "def compute_uid(title, source):\n",
    "    raw = f\"{title}_{source}\"\n",
    "    return hashlib.sha1(raw.encode('utf-8')).hexdigest()[:10]\n",
    "\n",
    "# Ruta base (ajustá según sea hourly o full)\n",
    "csv_files = glob.glob('./data/rss_slices/*.csv')\n",
    "\n",
    "for file in csv_files:\n",
    "    filename = os.path.basename(file)\n",
    "    print(f\"⏳ Procesando: {filename}\")\n",
    "    \n",
    "    df = pd.read_csv(file)\n",
    "\n",
    "    # Validación mínima\n",
    "    if 'Title' not in df.columns or 'Source' not in df.columns or 'Published' not in df.columns:\n",
    "        print(f\"❌ Skipping {filename}: missing critical columns.\")\n",
    "        continue\n",
    "\n",
    "    # Parseo robusto de fechas\n",
    "    df['Published'] = pd.to_datetime(df['Published'], errors='coerce', utc=True)\n",
    "    df = df.dropna(subset=['Published'])\n",
    "\n",
    "    # Ordenar por fecha\n",
    "    df = df.sort_values('Published').reset_index(drop=True)\n",
    "\n",
    "    # Recalcular uids\n",
    "    df['uid'] = df.apply(lambda row: compute_uid(row['Title'], row['Source']), axis=1)\n",
    "\n",
    "    # Sobrescribir article_id secuencial\n",
    "    df['article_id'] = df.index + 1\n",
    "\n",
    "\n",
    "    # Guardar\n",
    "    df.to_csv(file, index=False, encoding='utf-8-sig')\n",
    "    print(f\"✅ Reescrito: {filename} con {len(df)} artículos.\")\n"
   ]
  },
  {
   "cell_type": "code",
   "execution_count": 1,
   "metadata": {},
   "outputs": [],
   "source": [
    "# def reverse_string(s):\n",
    "#     reversed_s = ''.join(reversed(s))\n",
    "#     return reversed"
   ]
  },
  {
   "cell_type": "code",
   "execution_count": 3,
   "metadata": {},
   "outputs": [
    {
     "name": "stdout",
     "output_type": "stream",
     "text": [
      "<class 'reversed'>\n"
     ]
    }
   ],
   "source": [
    "# string = 'hello'\n",
    "# print(reverse_string(string))"
   ]
  },
  {
   "cell_type": "code",
   "execution_count": null,
   "metadata": {},
   "outputs": [],
   "source": []
  }
 ],
 "metadata": {
  "kernelspec": {
   "display_name": "new_env",
   "language": "python",
   "name": "python3"
  },
  "language_info": {
   "codemirror_mode": {
    "name": "ipython",
    "version": 3
   },
   "file_extension": ".py",
   "mimetype": "text/x-python",
   "name": "python",
   "nbconvert_exporter": "python",
   "pygments_lexer": "ipython3",
   "version": "3.11.11"
  }
 },
 "nbformat": 4,
 "nbformat_minor": 2
}
